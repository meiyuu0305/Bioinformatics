{
 "cells": [
  {
   "cell_type": "markdown",
   "id": "92da6708-f013-4834-9b4f-4a999ef72c74",
   "metadata": {},
   "source": [
    "# Goal of Program \n",
    "This program is to do the following: \n",
    "1. Extract the DNA sequence from a file and put into a string\n",
    "2. Check for validity of the string (any character other than ACTG and its lowercase)\n",
    "3. Compile the complementary strand\n",
    "   * A-T & C-G base pair\n",
    "   * Flip the strand from (3'-5') to (5'-3') or vice versa"
   ]
  },
  {
   "cell_type": "markdown",
   "id": "d51a7047-0680-4287-9ecc-dfe2a76c82df",
   "metadata": {},
   "source": [
    "### 1. Extract the DNA sequence \n",
    "There are two files, 1 file has a valid DNA sequence and the other has invalid DNA sequence. Both are read into different strings. "
   ]
  },
  {
   "cell_type": "code",
   "execution_count": 60,
   "id": "baa220e9-9bb9-420e-8146-0fa768045637",
   "metadata": {},
   "outputs": [],
   "source": [
    "with open('valid.txt', 'r') as file:\n",
    "    valid_list = file.read().replace('\\n', '') #if there is a newline, ignore it.\n",
    "with open('invalid.txt', 'r') as file:\n",
    "    invalid_list = file.read().replace('\\n', '')"
   ]
  },
  {
   "cell_type": "markdown",
   "id": "1a29af03-2771-4e49-ad90-d2cc5daa47e6",
   "metadata": {},
   "source": [
    "### 2. Validity check\n",
    "The validity check is created in a function (started out with <i>def</i>). To check the string, pass the string as the parameter to the function. The function will output whether the DNA string is valid or not. \n",
    "\n",
    "`findall` is a function in Regular Expression (re) module, to find all matches in the mentioned regular expression inside `(\"[...]\")`\n",
    "In this case, `\"[^ACTGactg]\"` expression means that we want to get any character that is not ACTG and actg. Then, we want to find all of these occurrences in the `str` string. The `findall` function will return a touple of string found, and we are assigning the touple to `match` variable."
   ]
  },
  {
   "cell_type": "code",
   "execution_count": 66,
   "id": "cb3438de-21dc-477a-9340-d51582e784a5",
   "metadata": {},
   "outputs": [
    {
     "name": "stdout",
     "output_type": "stream",
     "text": [
      "ATGCTAGCTAGCTAG\t\tDNA sequence is good\n",
      "ATCGXATG*CTG#ATCGT\tInvalid nucleotide detected\n"
     ]
    }
   ],
   "source": [
    "import re\n",
    "### Check for validity of string\n",
    "def validity(str):\n",
    "    match = re.findall(\"[^ACTGactg]\", str) #find any character that does not have ACTG or actg\n",
    "    if match: #any touple detected\n",
    "        print( str + \"\\tInvalid nucleotide detected\") \n",
    "    else:  #no touple detected\n",
    "        print(str + \"\\t\\tDNA sequence is good\") \n",
    "validity (valid_list)\n",
    "validity (invalid_list)"
   ]
  },
  {
   "cell_type": "markdown",
   "id": "90aa4cd7-778f-45ad-8092-222bb5159d53",
   "metadata": {},
   "source": [
    "### Compiling the complementary strand \n",
    "#### Base pairing \n",
    "In order to base pair, we need a loop that iterate at every character in a long list of string - `for c in str`. At every character, consider which nucleotide is it (A, T, C , or G). If the character is an Adenine (A), we want to attach a Thymine (T) to the `result` string.\n",
    "#### Flipping strands \n",
    "To flip the strand in reverse order, instead of using another function, we could append the complementary nucleotide at the beginning of the `result` string. "
   ]
  },
  {
   "cell_type": "code",
   "execution_count": 69,
   "id": "e7790925-b001-4b51-8247-7198af995167",
   "metadata": {},
   "outputs": [
    {
     "name": "stdout",
     "output_type": "stream",
     "text": [
      "Given sequence: \tATGCTAGCTAGCTAG\n",
      "Result sequence: \tCTAGCTAGCTAGCAT\n"
     ]
    }
   ],
   "source": [
    "def compile_seq (str):\n",
    "    result = \"\" #create an empty string to store the complementary sequence\n",
    "    for c in str: \n",
    "        if c == 'A' or c == 'a':\n",
    "            result = 'T' + result #adding the responding nucleotide at the beginning of the result string \n",
    "        if c == 'T' or c == 't':\n",
    "            result = 'A' + result\n",
    "        if c == 'C' or c == 'c':\n",
    "            result = 'G' + result\n",
    "        if c == 'G' or c== 'g':\n",
    "            result = 'C' + result\n",
    "    print('Given sequence: \\t' + str + '\\n' + 'Result sequence: \\t' + result) \n",
    "compile_seq (valid_list) #calling the function to compile the complementary sequence on the valid list"
   ]
  }
 ],
 "metadata": {
  "kernelspec": {
   "display_name": "Python 3 (ipykernel)",
   "language": "python",
   "name": "python3"
  },
  "language_info": {
   "codemirror_mode": {
    "name": "ipython",
    "version": 3
   },
   "file_extension": ".py",
   "mimetype": "text/x-python",
   "name": "python",
   "nbconvert_exporter": "python",
   "pygments_lexer": "ipython3",
   "version": "3.11.7"
  }
 },
 "nbformat": 4,
 "nbformat_minor": 5
}
